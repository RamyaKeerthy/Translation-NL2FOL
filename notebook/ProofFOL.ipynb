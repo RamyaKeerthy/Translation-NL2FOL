{
  "nbformat": 4,
  "nbformat_minor": 0,
  "metadata": {
    "colab": {
      "provenance": [],
      "collapsed_sections": [
        "Yjamzfi5Tola"
      ]
    },
    "kernelspec": {
      "name": "python3",
      "display_name": "Python 3"
    },
    "language_info": {
      "name": "python"
    }
  },
  "cells": [
    {
      "cell_type": "code",
      "execution_count": 1,
      "metadata": {
        "id": "ECohKZK9Cpcp"
      },
      "outputs": [],
      "source": [
        "import json\n",
        "from tqdm import tqdm\n",
        "import random\n",
        "import pandas as pd\n",
        "import numpy as np\n",
        "import re"
      ]
    },
    {
      "cell_type": "markdown",
      "source": [
        "# Extract Data"
      ],
      "metadata": {
        "id": "fvFYIw6C0XRT"
      }
    },
    {
      "cell_type": "code",
      "source": [
        "df_gpt_logic = pd.read_json('proof_train_logic.json')"
      ],
      "metadata": {
        "id": "Lvqml_VDGicK"
      },
      "execution_count": 2,
      "outputs": []
    },
    {
      "cell_type": "code",
      "source": [
        "# Records that failed at tool\n",
        "print(f\"No. of records that failed at tool: {len(df_gpt_logic[(df_gpt_logic['predicted_answer']=='None')])}\")\n",
        "\n",
        "# Mismatch\n",
        "print(f\"No. of records with incorrect predictions: {len(df_gpt_logic[(df_gpt_logic['predicted_answer']!='None')&(df_gpt_logic['output']!=df_gpt_logic['predicted_answer'])])}\")"
      ],
      "metadata": {
        "colab": {
          "base_uri": "https://localhost:8080/"
        },
        "id": "JS5xAunvxYHJ",
        "outputId": "21d2d924-a7f6-4e84-ccc5-6777169ac456"
      },
      "execution_count": 3,
      "outputs": [
        {
          "output_type": "stream",
          "name": "stdout",
          "text": [
            "No. of records that failed at tool: 3881\n",
            "No. of records with incorrect predictions: 695\n"
          ]
        }
      ]
    },
    {
      "cell_type": "code",
      "source": [
        "# Get correct fol only\n",
        "df_proof = df_gpt_logic[(df_gpt_logic['predicted_answer']!=\"None\")&(df_gpt_logic['output']==df_gpt_logic['predicted_answer'])].copy()"
      ],
      "metadata": {
        "id": "m_II_3xViSvQ"
      },
      "execution_count": 4,
      "outputs": []
    },
    {
      "cell_type": "code",
      "source": [
        "print(len(df_proof))"
      ],
      "metadata": {
        "colab": {
          "base_uri": "https://localhost:8080/"
        },
        "id": "5N2J1uFVikGN",
        "outputId": "870b5463-264f-4609-f70d-0f1c6778b095"
      },
      "execution_count": 5,
      "outputs": [
        {
          "output_type": "stream",
          "name": "stdout",
          "text": [
            "10424\n"
          ]
        }
      ]
    },
    {
      "cell_type": "markdown",
      "source": [
        "# Correct Data"
      ],
      "metadata": {
        "id": "f1arzUfobBaM"
      }
    },
    {
      "cell_type": "code",
      "source": [
        "# Separate premise and conclusions\n",
        "def create_conclusion(logic):\n",
        "  logic_edited = re.sub(r'(\\d+\\.?\\s*|-+\\s*|\\*|\\`)', '', logic)\n",
        "  logic_edited = logic_edited.replace(\"Question\", \"Conclusion\")\n",
        "  if \"Conclusion\" in logic_edited:\n",
        "    conclusion_string = logic_edited.split(\"Conclusion\")[1].strip(':').strip('\\n')\n",
        "  else:\n",
        "    conclusion_string = logic_edited.split(\"Conclusion\")[-1].strip(':').strip('\\n')\n",
        "  conclusion = conclusion_string.strip().split('\\n')\n",
        "  logic_conclusion = conclusion[0].strip()\n",
        "  return logic_conclusion\n",
        "\n",
        "def create_premise(logic):\n",
        "  logic_edited = re.sub(r'(\\d+\\.?\\s*|-+\\s*|\\*|\\`)', '', logic)\n",
        "  logic_edited = logic_edited.replace(\"Question\", \"Conclusion\")\n",
        "  premises_string = logic_edited.split(\"Conclusion\")[0].split(\"Premises\")[-1].strip(':').strip('\\n')\n",
        "  premises = premises_string.strip().split('\\n')\n",
        "  logic_premise = [premise.strip() for premise in premises if ':::' in premise]\n",
        "  return logic_premise"
      ],
      "metadata": {
        "id": "P9XxT8ugbBIt"
      },
      "execution_count": 6,
      "outputs": []
    },
    {
      "cell_type": "code",
      "source": [
        "df_proof['Premise'] = df_proof['logic'].apply(create_premise)\n",
        "df_proof['Conclusion'] = df_proof['logic'].apply(create_conclusion)"
      ],
      "metadata": {
        "id": "PhnOqpemb9pq"
      },
      "execution_count": 7,
      "outputs": []
    },
    {
      "cell_type": "code",
      "source": [
        "# Create FOL\n",
        "df_proof['fol'] = df_proof.apply(lambda x: \"Premise_FOL- \"+str(\";\".join(x['Premise'])) + \";Conclusion_FOL- \" + str(x['Conclusion']), axis=1)"
      ],
      "metadata": {
        "id": "OhSM1kCFcU20"
      },
      "execution_count": 8,
      "outputs": []
    },
    {
      "cell_type": "code",
      "source": [
        "# Extract predicates\n",
        "def extract_predicates(fol_statement):\n",
        "    # Regular expression pattern to match predicates\n",
        "    pattern = r'\\b[A-Za-z][A-Za-z0-9]*\\([^()]*\\)'\n",
        "\n",
        "    # Find all predicate matches in the statement\n",
        "    predicates = re.findall(pattern, fol_statement)\n",
        "    generalized_predicates = []\n",
        "\n",
        "    for predicate in predicates:\n",
        "        args = predicate.split('(')[-1].split(')')[0].split(',')\n",
        "        args = [arg.strip() for arg in args]\n",
        "\n",
        "        if len(args)>3:\n",
        "          new_args = [chr(110 + i) for i in range(len(args))]\n",
        "        else:\n",
        "          new_args = [chr(120 + i) for i in range(len(args))]\n",
        "\n",
        "        predicate_name = predicate.split('(')[0]\n",
        "        new_predicate = f\"{predicate_name}({', '.join(new_args)})\"\n",
        "        generalized_predicates.append(new_predicate)\n",
        "\n",
        "    unique_predicates = list(set(generalized_predicates))\n",
        "    return f\"Predicates: {'; '.join(unique_predicates)}\"\n",
        "\n",
        "df_proof['predicates'] = df_proof['fol'].apply(extract_predicates)"
      ],
      "metadata": {
        "id": "yd4HSVYKdSUb"
      },
      "execution_count": 9,
      "outputs": []
    },
    {
      "cell_type": "code",
      "source": [
        "# NL input\n",
        "df_proof[\"input\"] = df_proof.apply(lambda x: \"Premise: \" + str(x['context']) + \" \\nConclusion: \" + str(x['question']), axis=1)"
      ],
      "metadata": {
        "id": "Fh38m6CTjVrj"
      },
      "execution_count": 10,
      "outputs": []
    },
    {
      "cell_type": "code",
      "source": [
        "# Additional parsing\n",
        "df_proof.rename(columns={\"output\":\"label\"}, inplace=True)\n",
        "df_proof['output'] = df_proof['predicates'] + '\\n' + df_proof['fol']\n",
        "df_proof_final = df_proof[['id', 'input', 'label', 'output']]"
      ],
      "metadata": {
        "id": "RBFxfacnkPD2"
      },
      "execution_count": 11,
      "outputs": []
    },
    {
      "cell_type": "code",
      "source": [
        "df_proof_final.to_json(\"proof_train_fol.json\", orient=\"records\", indent=4)"
      ],
      "metadata": {
        "id": "Qg7V2bSKlUzE"
      },
      "execution_count": 12,
      "outputs": []
    }
  ]
}